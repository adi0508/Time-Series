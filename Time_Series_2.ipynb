{
  "nbformat": 4,
  "nbformat_minor": 0,
  "metadata": {
    "colab": {
      "name": "Time_Series_2",
      "provenance": [],
      "authorship_tag": "ABX9TyMRh1lC+94QzSuvLYQE8Pdc",
      "include_colab_link": true
    },
    "kernelspec": {
      "display_name": "Python 3",
      "name": "python3"
    }
  },
  "cells": [
    {
      "cell_type": "markdown",
      "metadata": {
        "id": "view-in-github",
        "colab_type": "text"
      },
      "source": [
        "<a href=\"https://colab.research.google.com/github/tiwarikaran/Time-Series/blob/main/Time_Series_2.ipynb\" target=\"_parent\"><img src=\"https://colab.research.google.com/assets/colab-badge.svg\" alt=\"Open In Colab\"/></a>"
      ]
    },
    {
      "cell_type": "code",
      "metadata": {
        "id": "XxxtYHc1hP2D"
      },
      "source": [
        "import pandas as pd\r\n",
        "import numpy as np\r\n",
        "import matplotlib.pyplot as plt\r\n",
        "import seaborn as sns"
      ],
      "execution_count": 12,
      "outputs": []
    },
    {
      "cell_type": "code",
      "metadata": {
        "id": "SnoaW_2Whmh6",
        "colab": {
          "base_uri": "https://localhost:8080/",
          "height": 328
        },
        "outputId": "a541482f-2980-4ca4-c7fd-a00361913f30"
      },
      "source": [
        "df = pd.read_csv('sample_data/jha_sir.csv');df"
      ],
      "execution_count": 90,
      "outputs": [
        {
          "output_type": "execute_result",
          "data": {
            "text/html": [
              "<div>\n",
              "<style scoped>\n",
              "    .dataframe tbody tr th:only-of-type {\n",
              "        vertical-align: middle;\n",
              "    }\n",
              "\n",
              "    .dataframe tbody tr th {\n",
              "        vertical-align: top;\n",
              "    }\n",
              "\n",
              "    .dataframe thead th {\n",
              "        text-align: right;\n",
              "    }\n",
              "</style>\n",
              "<table border=\"1\" class=\"dataframe\">\n",
              "  <thead>\n",
              "    <tr style=\"text-align: right;\">\n",
              "      <th></th>\n",
              "      <th>year</th>\n",
              "      <th>yeild</th>\n",
              "    </tr>\n",
              "  </thead>\n",
              "  <tbody>\n",
              "    <tr>\n",
              "      <th>0</th>\n",
              "      <td>2003</td>\n",
              "      <td>210</td>\n",
              "    </tr>\n",
              "    <tr>\n",
              "      <th>1</th>\n",
              "      <td>2004</td>\n",
              "      <td>205</td>\n",
              "    </tr>\n",
              "    <tr>\n",
              "      <th>2</th>\n",
              "      <td>2005</td>\n",
              "      <td>180</td>\n",
              "    </tr>\n",
              "    <tr>\n",
              "      <th>3</th>\n",
              "      <td>2006</td>\n",
              "      <td>190</td>\n",
              "    </tr>\n",
              "    <tr>\n",
              "      <th>4</th>\n",
              "      <td>2007</td>\n",
              "      <td>185</td>\n",
              "    </tr>\n",
              "    <tr>\n",
              "      <th>5</th>\n",
              "      <td>2008</td>\n",
              "      <td>185</td>\n",
              "    </tr>\n",
              "    <tr>\n",
              "      <th>6</th>\n",
              "      <td>2009</td>\n",
              "      <td>180</td>\n",
              "    </tr>\n",
              "    <tr>\n",
              "      <th>7</th>\n",
              "      <td>2010</td>\n",
              "      <td>175</td>\n",
              "    </tr>\n",
              "    <tr>\n",
              "      <th>8</th>\n",
              "      <td>2011</td>\n",
              "      <td>170</td>\n",
              "    </tr>\n",
              "  </tbody>\n",
              "</table>\n",
              "</div>"
            ],
            "text/plain": [
              "   year  yeild\n",
              "0  2003    210\n",
              "1  2004    205\n",
              "2  2005    180\n",
              "3  2006    190\n",
              "4  2007    185\n",
              "5  2008    185\n",
              "6  2009    180\n",
              "7  2010    175\n",
              "8  2011    170"
            ]
          },
          "metadata": {
            "tags": []
          },
          "execution_count": 90
        }
      ]
    },
    {
      "cell_type": "code",
      "metadata": {
        "colab": {
          "base_uri": "https://localhost:8080/"
        },
        "id": "K4EkU7UvcJT5",
        "outputId": "f8ab15d2-d83e-4165-8f62-a9ab6083b2fd"
      },
      "source": [
        "df['yeild'][::-1]"
      ],
      "execution_count": 93,
      "outputs": [
        {
          "output_type": "execute_result",
          "data": {
            "text/plain": [
              "8    170\n",
              "7    175\n",
              "6    180\n",
              "5    185\n",
              "4    185\n",
              "3    190\n",
              "2    180\n",
              "1    205\n",
              "0    210\n",
              "Name: yeild, dtype: int64"
            ]
          },
          "metadata": {
            "tags": []
          },
          "execution_count": 93
        }
      ]
    },
    {
      "cell_type": "code",
      "metadata": {
        "colab": {
          "base_uri": "https://localhost:8080/",
          "height": 328
        },
        "id": "pGV2qtPUcA_L",
        "outputId": "dba5b4c1-c3db-4b2a-af40-bd52dbd3f671"
      },
      "source": [
        "df['yeild']=df['yeild'][::-1].values;df"
      ],
      "execution_count": 94,
      "outputs": [
        {
          "output_type": "execute_result",
          "data": {
            "text/html": [
              "<div>\n",
              "<style scoped>\n",
              "    .dataframe tbody tr th:only-of-type {\n",
              "        vertical-align: middle;\n",
              "    }\n",
              "\n",
              "    .dataframe tbody tr th {\n",
              "        vertical-align: top;\n",
              "    }\n",
              "\n",
              "    .dataframe thead th {\n",
              "        text-align: right;\n",
              "    }\n",
              "</style>\n",
              "<table border=\"1\" class=\"dataframe\">\n",
              "  <thead>\n",
              "    <tr style=\"text-align: right;\">\n",
              "      <th></th>\n",
              "      <th>year</th>\n",
              "      <th>yeild</th>\n",
              "    </tr>\n",
              "  </thead>\n",
              "  <tbody>\n",
              "    <tr>\n",
              "      <th>0</th>\n",
              "      <td>2003</td>\n",
              "      <td>170</td>\n",
              "    </tr>\n",
              "    <tr>\n",
              "      <th>1</th>\n",
              "      <td>2004</td>\n",
              "      <td>175</td>\n",
              "    </tr>\n",
              "    <tr>\n",
              "      <th>2</th>\n",
              "      <td>2005</td>\n",
              "      <td>180</td>\n",
              "    </tr>\n",
              "    <tr>\n",
              "      <th>3</th>\n",
              "      <td>2006</td>\n",
              "      <td>185</td>\n",
              "    </tr>\n",
              "    <tr>\n",
              "      <th>4</th>\n",
              "      <td>2007</td>\n",
              "      <td>185</td>\n",
              "    </tr>\n",
              "    <tr>\n",
              "      <th>5</th>\n",
              "      <td>2008</td>\n",
              "      <td>190</td>\n",
              "    </tr>\n",
              "    <tr>\n",
              "      <th>6</th>\n",
              "      <td>2009</td>\n",
              "      <td>180</td>\n",
              "    </tr>\n",
              "    <tr>\n",
              "      <th>7</th>\n",
              "      <td>2010</td>\n",
              "      <td>205</td>\n",
              "    </tr>\n",
              "    <tr>\n",
              "      <th>8</th>\n",
              "      <td>2011</td>\n",
              "      <td>210</td>\n",
              "    </tr>\n",
              "  </tbody>\n",
              "</table>\n",
              "</div>"
            ],
            "text/plain": [
              "   year  yeild\n",
              "0  2003    170\n",
              "1  2004    175\n",
              "2  2005    180\n",
              "3  2006    185\n",
              "4  2007    185\n",
              "5  2008    190\n",
              "6  2009    180\n",
              "7  2010    205\n",
              "8  2011    210"
            ]
          },
          "metadata": {
            "tags": []
          },
          "execution_count": 94
        }
      ]
    },
    {
      "cell_type": "code",
      "metadata": {
        "colab": {
          "base_uri": "https://localhost:8080/"
        },
        "id": "KR3rL0DnhOmi",
        "outputId": "f5382793-988c-4437-e883-55e5cd6dca1e"
      },
      "source": [
        "from statsmodels.formula.api import ols\r\n",
        "\r\n",
        "#fit multiple linear regression model\r\n",
        "model = ols('yeild~year', data=df).fit()\r\n",
        "\r\n",
        "#view model summary\r\n",
        "print(model.summary())"
      ],
      "execution_count": 95,
      "outputs": [
        {
          "output_type": "stream",
          "text": [
            "                            OLS Regression Results                            \n",
            "==============================================================================\n",
            "Dep. Variable:                  yeild   R-squared:                       0.774\n",
            "Model:                            OLS   Adj. R-squared:                  0.742\n",
            "Method:                 Least Squares   F-statistic:                     23.99\n",
            "Date:                Thu, 17 Dec 2020   Prob (F-statistic):            0.00176\n",
            "Time:                        06:43:54   Log-Likelihood:                -28.787\n",
            "No. Observations:                   9   AIC:                             61.57\n",
            "Df Residuals:                       7   BIC:                             61.97\n",
            "Df Model:                           1                                         \n",
            "Covariance Type:            nonrobust                                         \n",
            "==============================================================================\n",
            "                 coef    std err          t      P>|t|      [0.025      0.975]\n",
            "------------------------------------------------------------------------------\n",
            "Intercept  -8343.0833   1741.560     -4.791      0.002   -1.25e+04   -4224.949\n",
            "year           4.2500      0.868      4.898      0.002       2.198       6.302\n",
            "==============================================================================\n",
            "Omnibus:                       13.079   Durbin-Watson:                   2.070\n",
            "Prob(Omnibus):                  0.001   Jarque-Bera (JB):                5.447\n",
            "Skew:                          -1.622   Prob(JB):                       0.0656\n",
            "Kurtosis:                       5.000   Cond. No.                     1.56e+06\n",
            "==============================================================================\n",
            "\n",
            "Warnings:\n",
            "[1] Standard Errors assume that the covariance matrix of the errors is correctly specified.\n",
            "[2] The condition number is large, 1.56e+06. This might indicate that there are\n",
            "strong multicollinearity or other numerical problems.\n"
          ],
          "name": "stdout"
        },
        {
          "output_type": "stream",
          "text": [
            "/usr/local/lib/python3.6/dist-packages/scipy/stats/stats.py:1535: UserWarning: kurtosistest only valid for n>=20 ... continuing anyway, n=9\n",
            "  \"anyway, n=%i\" % int(n))\n"
          ],
          "name": "stderr"
        }
      ]
    },
    {
      "cell_type": "code",
      "metadata": {
        "colab": {
          "base_uri": "https://localhost:8080/",
          "height": 282
        },
        "id": "zBupecXTvd30",
        "outputId": "dcacc20b-e606-4554-805e-3d52b7443812"
      },
      "source": [
        "plt.plot((model.resid.values))"
      ],
      "execution_count": 144,
      "outputs": [
        {
          "output_type": "execute_result",
          "data": {
            "text/plain": [
              "[<matplotlib.lines.Line2D at 0x7f60fd9e8978>]"
            ]
          },
          "metadata": {
            "tags": []
          },
          "execution_count": 144
        },
        {
          "output_type": "display_data",
          "data": {
            "image/png": "[encoded data removed]",
            "text/plain": [
              "<Figure size 432x288 with 1 Axes>"
            ]
          },
          "metadata": {
            "tags": [],
            "needs_background": "light"
          }
        }
      ]
    },
    {
      "cell_type": "code",
      "metadata": {
        "colab": {
          "base_uri": "https://localhost:8080/"
        },
        "id": "MFsbcYZWS1PH",
        "outputId": "5a6d4018-12e4-465b-ebaa-3c2d162ae6ba"
      },
      "source": [
        "for i in range(0,df.shape[0]-2):\r\n",
        "  print(i,(df['yeild'][i:i+3].sum()))"
      ],
      "execution_count": 98,
      "outputs": [
        {
          "output_type": "stream",
          "text": [
            "0 525\n",
            "1 540\n",
            "2 550\n",
            "3 560\n",
            "4 555\n",
            "5 575\n",
            "6 595\n"
          ],
          "name": "stdout"
        }
      ]
    },
    {
      "cell_type": "code",
      "metadata": {
        "id": "lwCk4oHnRNFH"
      },
      "source": [
        "l = []\r\n",
        "for i in range(0,df.shape[0]-2):\r\n",
        "  l.append(df['yeild'][i:i+3].sum())"
      ],
      "execution_count": 99,
      "outputs": []
    },
    {
      "cell_type": "code",
      "metadata": {
        "colab": {
          "base_uri": "https://localhost:8080/"
        },
        "id": "fIYujfAgRbp_",
        "outputId": "32701804-5bec-4914-c6df-96ea368d26d1"
      },
      "source": [
        "l"
      ],
      "execution_count": 100,
      "outputs": [
        {
          "output_type": "execute_result",
          "data": {
            "text/plain": [
              "[525, 540, 550, 560, 555, 575, 595]"
            ]
          },
          "metadata": {
            "tags": []
          },
          "execution_count": 100
        }
      ]
    },
    {
      "cell_type": "code",
      "metadata": {
        "id": "oRMRnWATR1Z2"
      },
      "source": [
        "l = np.array(l)"
      ],
      "execution_count": 101,
      "outputs": []
    },
    {
      "cell_type": "code",
      "metadata": {
        "colab": {
          "base_uri": "https://localhost:8080/"
        },
        "id": "Sdc6Lh7fW67f",
        "outputId": "f1318b53-39a1-4485-b855-7fb61739ef54"
      },
      "source": [
        "l"
      ],
      "execution_count": 102,
      "outputs": [
        {
          "output_type": "execute_result",
          "data": {
            "text/plain": [
              "array([525, 540, 550, 560, 555, 575, 595])"
            ]
          },
          "metadata": {
            "tags": []
          },
          "execution_count": 102
        }
      ]
    },
    {
      "cell_type": "code",
      "metadata": {
        "colab": {
          "base_uri": "https://localhost:8080/",
          "height": 282
        },
        "id": "NnoaZH8ATN9-",
        "outputId": "c35f3bfc-8e33-47bb-94cd-51e43175b41f"
      },
      "source": [
        "plt.plot(l/3)"
      ],
      "execution_count": 103,
      "outputs": [
        {
          "output_type": "execute_result",
          "data": {
            "text/plain": [
              "[<matplotlib.lines.Line2D at 0x7f60fdfec6d8>]"
            ]
          },
          "metadata": {
            "tags": []
          },
          "execution_count": 103
        },
        {
          "output_type": "display_data",
          "data": {
            "image/png": "[encoded data removed]",
            "text/plain": [
              "<Figure size 432x288 with 1 Axes>"
            ]
          },
          "metadata": {
            "tags": [],
            "needs_background": "light"
          }
        }
      ]
    },
    {
      "cell_type": "code",
      "metadata": {
        "id": "6D4dQNg5TYuH"
      },
      "source": [
        "from sklearn.linear_model import LinearRegression\r\n",
        "lr = LinearRegression()\r\n",
        "lr.fit(np.array(df['year']).reshape(-1,1),np.array(df['yeild']).reshape(-1,1))\r\n",
        "y_cap = lr.predict(np.array(df['year']).reshape(-1,1))"
      ],
      "execution_count": 104,
      "outputs": []
    },
    {
      "cell_type": "code",
      "metadata": {
        "id": "cywxJFryW_4X"
      },
      "source": [
        "ll = np.array([0,525, 540, 550, 560, 555, 575, 595,0])"
      ],
      "execution_count": 111,
      "outputs": []
    },
    {
      "cell_type": "code",
      "metadata": {
        "colab": {
          "base_uri": "https://localhost:8080/",
          "height": 328
        },
        "id": "cXRH4fs4WaXq",
        "outputId": "0ceaeab3-82ba-4a9e-9bf3-9234afc6efae"
      },
      "source": [
        "df['ma'] = ll/3\r\n",
        "df"
      ],
      "execution_count": 112,
      "outputs": [
        {
          "output_type": "execute_result",
          "data": {
            "text/html": [
              "<div>\n",
              "<style scoped>\n",
              "    .dataframe tbody tr th:only-of-type {\n",
              "        vertical-align: middle;\n",
              "    }\n",
              "\n",
              "    .dataframe tbody tr th {\n",
              "        vertical-align: top;\n",
              "    }\n",
              "\n",
              "    .dataframe thead th {\n",
              "        text-align: right;\n",
              "    }\n",
              "</style>\n",
              "<table border=\"1\" class=\"dataframe\">\n",
              "  <thead>\n",
              "    <tr style=\"text-align: right;\">\n",
              "      <th></th>\n",
              "      <th>year</th>\n",
              "      <th>yeild</th>\n",
              "      <th>ma</th>\n",
              "      <th>y_cap</th>\n",
              "    </tr>\n",
              "  </thead>\n",
              "  <tbody>\n",
              "    <tr>\n",
              "      <th>0</th>\n",
              "      <td>2003</td>\n",
              "      <td>170</td>\n",
              "      <td>0.000000</td>\n",
              "      <td>169.666667</td>\n",
              "    </tr>\n",
              "    <tr>\n",
              "      <th>1</th>\n",
              "      <td>2004</td>\n",
              "      <td>175</td>\n",
              "      <td>175.000000</td>\n",
              "      <td>173.916667</td>\n",
              "    </tr>\n",
              "    <tr>\n",
              "      <th>2</th>\n",
              "      <td>2005</td>\n",
              "      <td>180</td>\n",
              "      <td>180.000000</td>\n",
              "      <td>178.166667</td>\n",
              "    </tr>\n",
              "    <tr>\n",
              "      <th>3</th>\n",
              "      <td>2006</td>\n",
              "      <td>185</td>\n",
              "      <td>183.333333</td>\n",
              "      <td>182.416667</td>\n",
              "    </tr>\n",
              "    <tr>\n",
              "      <th>4</th>\n",
              "      <td>2007</td>\n",
              "      <td>185</td>\n",
              "      <td>186.666667</td>\n",
              "      <td>186.666667</td>\n",
              "    </tr>\n",
              "    <tr>\n",
              "      <th>5</th>\n",
              "      <td>2008</td>\n",
              "      <td>190</td>\n",
              "      <td>185.000000</td>\n",
              "      <td>190.916667</td>\n",
              "    </tr>\n",
              "    <tr>\n",
              "      <th>6</th>\n",
              "      <td>2009</td>\n",
              "      <td>180</td>\n",
              "      <td>191.666667</td>\n",
              "      <td>195.166667</td>\n",
              "    </tr>\n",
              "    <tr>\n",
              "      <th>7</th>\n",
              "      <td>2010</td>\n",
              "      <td>205</td>\n",
              "      <td>198.333333</td>\n",
              "      <td>199.416667</td>\n",
              "    </tr>\n",
              "    <tr>\n",
              "      <th>8</th>\n",
              "      <td>2011</td>\n",
              "      <td>210</td>\n",
              "      <td>0.000000</td>\n",
              "      <td>203.666667</td>\n",
              "    </tr>\n",
              "  </tbody>\n",
              "</table>\n",
              "</div>"
            ],
            "text/plain": [
              "   year  yeild          ma       y_cap\n",
              "0  2003    170    0.000000  169.666667\n",
              "1  2004    175  175.000000  173.916667\n",
              "2  2005    180  180.000000  178.166667\n",
              "3  2006    185  183.333333  182.416667\n",
              "4  2007    185  186.666667  186.666667\n",
              "5  2008    190  185.000000  190.916667\n",
              "6  2009    180  191.666667  195.166667\n",
              "7  2010    205  198.333333  199.416667\n",
              "8  2011    210    0.000000  203.666667"
            ]
          },
          "metadata": {
            "tags": []
          },
          "execution_count": 112
        }
      ]
    },
    {
      "cell_type": "code",
      "metadata": {
        "colab": {
          "base_uri": "https://localhost:8080/",
          "height": 328
        },
        "id": "fyEQTSFyYBUc",
        "outputId": "87747262-a105-45bd-9588-5dd38fbf6aed"
      },
      "source": [
        "df['y_cap'] = y_cap\r\n",
        "df"
      ],
      "execution_count": 108,
      "outputs": [
        {
          "output_type": "execute_result",
          "data": {
            "text/html": [
              "<div>\n",
              "<style scoped>\n",
              "    .dataframe tbody tr th:only-of-type {\n",
              "        vertical-align: middle;\n",
              "    }\n",
              "\n",
              "    .dataframe tbody tr th {\n",
              "        vertical-align: top;\n",
              "    }\n",
              "\n",
              "    .dataframe thead th {\n",
              "        text-align: right;\n",
              "    }\n",
              "</style>\n",
              "<table border=\"1\" class=\"dataframe\">\n",
              "  <thead>\n",
              "    <tr style=\"text-align: right;\">\n",
              "      <th></th>\n",
              "      <th>year</th>\n",
              "      <th>yeild</th>\n",
              "      <th>ma</th>\n",
              "      <th>y_cap</th>\n",
              "    </tr>\n",
              "  </thead>\n",
              "  <tbody>\n",
              "    <tr>\n",
              "      <th>0</th>\n",
              "      <td>2003</td>\n",
              "      <td>170</td>\n",
              "      <td>0.000000</td>\n",
              "      <td>169.666667</td>\n",
              "    </tr>\n",
              "    <tr>\n",
              "      <th>1</th>\n",
              "      <td>2004</td>\n",
              "      <td>175</td>\n",
              "      <td>198.333333</td>\n",
              "      <td>173.916667</td>\n",
              "    </tr>\n",
              "    <tr>\n",
              "      <th>2</th>\n",
              "      <td>2005</td>\n",
              "      <td>180</td>\n",
              "      <td>191.666667</td>\n",
              "      <td>178.166667</td>\n",
              "    </tr>\n",
              "    <tr>\n",
              "      <th>3</th>\n",
              "      <td>2006</td>\n",
              "      <td>185</td>\n",
              "      <td>185.000000</td>\n",
              "      <td>182.416667</td>\n",
              "    </tr>\n",
              "    <tr>\n",
              "      <th>4</th>\n",
              "      <td>2007</td>\n",
              "      <td>185</td>\n",
              "      <td>186.666667</td>\n",
              "      <td>186.666667</td>\n",
              "    </tr>\n",
              "    <tr>\n",
              "      <th>5</th>\n",
              "      <td>2008</td>\n",
              "      <td>190</td>\n",
              "      <td>183.333333</td>\n",
              "      <td>190.916667</td>\n",
              "    </tr>\n",
              "    <tr>\n",
              "      <th>6</th>\n",
              "      <td>2009</td>\n",
              "      <td>180</td>\n",
              "      <td>180.000000</td>\n",
              "      <td>195.166667</td>\n",
              "    </tr>\n",
              "    <tr>\n",
              "      <th>7</th>\n",
              "      <td>2010</td>\n",
              "      <td>205</td>\n",
              "      <td>175.000000</td>\n",
              "      <td>199.416667</td>\n",
              "    </tr>\n",
              "    <tr>\n",
              "      <th>8</th>\n",
              "      <td>2011</td>\n",
              "      <td>210</td>\n",
              "      <td>0.000000</td>\n",
              "      <td>203.666667</td>\n",
              "    </tr>\n",
              "  </tbody>\n",
              "</table>\n",
              "</div>"
            ],
            "text/plain": [
              "   year  yeild          ma       y_cap\n",
              "0  2003    170    0.000000  169.666667\n",
              "1  2004    175  198.333333  173.916667\n",
              "2  2005    180  191.666667  178.166667\n",
              "3  2006    185  185.000000  182.416667\n",
              "4  2007    185  186.666667  186.666667\n",
              "5  2008    190  183.333333  190.916667\n",
              "6  2009    180  180.000000  195.166667\n",
              "7  2010    205  175.000000  199.416667\n",
              "8  2011    210    0.000000  203.666667"
            ]
          },
          "metadata": {
            "tags": []
          },
          "execution_count": 108
        }
      ]
    },
    {
      "cell_type": "code",
      "metadata": {
        "colab": {
          "base_uri": "https://localhost:8080/",
          "height": 296
        },
        "id": "YlWY3Tf_Xo-m",
        "outputId": "ced1be52-8e2d-413b-b114-77a3c36d44db"
      },
      "source": [
        "sns.lineplot(x = 'year',y = 'ma',data = df[1:8])"
      ],
      "execution_count": 113,
      "outputs": [
        {
          "output_type": "execute_result",
          "data": {
            "text/plain": [
              "<matplotlib.axes._subplots.AxesSubplot at 0x7f60fde80d68>"
            ]
          },
          "metadata": {
            "tags": []
          },
          "execution_count": 113
        },
        {
          "output_type": "display_data",
          "data": {
            "image/png": "[encoded data removed]",
            "text/plain": [
              "<Figure size 432x288 with 1 Axes>"
            ]
          },
          "metadata": {
            "tags": [],
            "needs_background": "light"
          }
        }
      ]
    },
    {
      "cell_type": "code",
      "metadata": {
        "colab": {
          "base_uri": "https://localhost:8080/",
          "height": 296
        },
        "id": "J15qeCvAYMyP",
        "outputId": "4f007934-afd1-40d1-a811-b995fd4e8c10"
      },
      "source": [
        "sns.lineplot(x = 'year',y = 'yeild',data = df)"
      ],
      "execution_count": 114,
      "outputs": [
        {
          "output_type": "execute_result",
          "data": {
            "text/plain": [
              "<matplotlib.axes._subplots.AxesSubplot at 0x7f60fde37c50>"
            ]
          },
          "metadata": {
            "tags": []
          },
          "execution_count": 114
        },
        {
          "output_type": "display_data",
          "data": {
            "image/png": "[encoded data removed]",
            "text/plain": [
              "<Figure size 432x288 with 1 Axes>"
            ]
          },
          "metadata": {
            "tags": [],
            "needs_background": "light"
          }
        }
      ]
    },
    {
      "cell_type": "code",
      "metadata": {
        "colab": {
          "base_uri": "https://localhost:8080/"
        },
        "id": "ssA6FOhKeNmK",
        "outputId": "d9a22c7f-75b2-422e-d94a-a4910b1c7677"
      },
      "source": [
        ""
      ],
      "execution_count": 122,
      "outputs": [
        {
          "output_type": "execute_result",
          "data": {
            "text/plain": [
              "array([525, 540, 550, 560, 555, 575, 595])"
            ]
          },
          "metadata": {
            "tags": []
          },
          "execution_count": 122
        }
      ]
    },
    {
      "cell_type": "code",
      "metadata": {
        "colab": {
          "base_uri": "https://localhost:8080/",
          "height": 282
        },
        "id": "RhLcUDQhdArt",
        "outputId": "96001d22-4244-4128-e8f2-9d9bf9ce6e46"
      },
      "source": [
        "plt.plot(df['year'],df['y_cap'],label = 'y_cap (Linear Curve Fitting)')\r\n",
        "plt.plot(df['year'][1:8],df['ma'][1:8],label = 'Moving Average')\r\n",
        "plt.plot(df['year'][1:8],df['yeild'][1:8],label = 'yield')\r\n",
        "#plt.ylim(((0,250)))\r\n",
        "plt.legend(loc = 4)"
      ],
      "execution_count": 136,
      "outputs": [
        {
          "output_type": "execute_result",
          "data": {
            "text/plain": [
              "<matplotlib.legend.Legend at 0x7f60fd5ac8d0>"
            ]
          },
          "metadata": {
            "tags": []
          },
          "execution_count": 136
        },
        {
          "output_type": "display_data",
          "data": {
            "image/png": "[encoded data removed]",
            "text/plain": [
              "<Figure size 432x288 with 1 Axes>"
            ]
          },
          "metadata": {
            "tags": [],
            "needs_background": "light"
          }
        }
      ]
    },
    {
      "cell_type": "code",
      "metadata": {
        "colab": {
          "base_uri": "https://localhost:8080/",
          "height": 296
        },
        "id": "RdA45XwtYPUS",
        "outputId": "d1882361-5f6a-4d5f-fa1c-de38079b3728"
      },
      "source": [
        "sns.regplot(x = 'year',y = 'yeild',data = df)"
      ],
      "execution_count": 74,
      "outputs": [
        {
          "output_type": "execute_result",
          "data": {
            "text/plain": [
              "<matplotlib.axes._subplots.AxesSubplot at 0x7f60feec0cc0>"
            ]
          },
          "metadata": {
            "tags": []
          },
          "execution_count": 74
        },
        {
          "output_type": "display_data",
          "data": {
            "image/png": "[encoded data removed]",
            "text/plain": [
              "<Figure size 432x288 with 1 Axes>"
            ]
          },
          "metadata": {
            "tags": [],
            "needs_background": "light"
          }
        }
      ]
    },
    {
      "cell_type": "code",
      "metadata": {
        "colab": {
          "base_uri": "https://localhost:8080/",
          "height": 298
        },
        "id": "F2W1ofqLYytg",
        "outputId": "713ccd54-1322-43c1-9b38-ae9663502904"
      },
      "source": [
        "sns.regplot(x = 'year',y = 'y_cap',data = df)"
      ],
      "execution_count": 75,
      "outputs": [
        {
          "output_type": "execute_result",
          "data": {
            "text/plain": [
              "<matplotlib.axes._subplots.AxesSubplot at 0x7f60fee49da0>"
            ]
          },
          "metadata": {
            "tags": []
          },
          "execution_count": 75
        },
        {
          "output_type": "display_data",
          "data": {
            "image/png": "[encoded data removed]",
            "text/plain": [
              "<Figure size 432x288 with 1 Axes>"
            ]
          },
          "metadata": {
            "tags": [],
            "needs_background": "light"
          }
        }
      ]
    },
    {
      "cell_type": "code",
      "metadata": {
        "colab": {
          "base_uri": "https://localhost:8080/",
          "height": 296
        },
        "id": "Dw7cRFkQY1uj",
        "outputId": "65093310-fa20-4c16-b0c1-271abf853b7a"
      },
      "source": [
        "sns.regplot(x = 'year',y = 'ma',data = df[1:9])"
      ],
      "execution_count": 78,
      "outputs": [
        {
          "output_type": "execute_result",
          "data": {
            "text/plain": [
              "<matplotlib.axes._subplots.AxesSubplot at 0x7f60ff0a44e0>"
            ]
          },
          "metadata": {
            "tags": []
          },
          "execution_count": 78
        },
        {
          "output_type": "display_data",
          "data": {
            "image/png": "[encoded data removed]",
            "text/plain": [
              "<Figure size 432x288 with 1 Axes>"
            ]
          },
          "metadata": {
            "tags": [],
            "needs_background": "light"
          }
        }
      ]
    },
    {
      "cell_type": "code",
      "metadata": {
        "id": "z86zmeZdY94_"
      },
      "source": [
        ""
      ],
      "execution_count": null,
      "outputs": []
    }
  ]
}